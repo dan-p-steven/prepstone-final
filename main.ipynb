{
 "cells": [
  {
   "cell_type": "markdown",
   "metadata": {},
   "source": [
    "## **Problem Statement**\n",
    "\n",
    "Develop an ML model using supervised learning from the proposed dataset. The problem is a binary classification problem and the target variable is 'isFraud'. The model should predict for the positive class, which indicates that a transaction is fraudulent. The model should additionally be written in the Tensorflow framework."
   ]
  },
  {
   "cell_type": "markdown",
   "metadata": {},
   "source": [
    "## **Exploratory Data Analysis (EDA)**"
   ]
  },
  {
   "cell_type": "markdown",
   "metadata": {},
   "source": [
    "### Dataset Size: The First Challenge\n",
    "\n",
    "The dataset is this [Synthetic Financial Transaction Dataset](https://www.kaggle.com/datasets/ealaxi/paysim1) from Kaggle, and it has a size of approximately 6,500,000 rows and 11 features. The first challenge we ran into was that, as students, doing any kind of EDA on data of this magnitude was too time consuming. Our smaller machines had trouble running the Python cells and scripts that would process this amount of data. So the first action we took was resizing our dataset down to 500,000 rows.\n",
    "\n",
    "It was important that we preserved the ratio of classes during the resize (as the dataset is imbalanced), so we used the train_test_split method and specified the 'stratify' parameter. We tried doing this through cells in Python Notebooks, but the cells were just too slow and VSCode would death-freeze. We employed a quick workaround by using caching and python scripting to handle the resizing of the dataset only."
   ]
  },
  {
   "cell_type": "markdown",
   "metadata": {},
   "source": [
    "### Resizing the Dataset by Python Script (do not run cell)\n",
    "\n",
    "#### resize_dataset.py"
   ]
  },
  {
   "cell_type": "code",
   "execution_count": null,
   "metadata": {},
   "outputs": [],
   "source": [
    "# Imports\n",
    "import pandas as pd\n",
    "import numpy as np\n",
    "\n",
    "import matplotlib.pyplot as plt\n",
    "\n",
    "# Cache libraries\n",
    "import joblib\n",
    "import os\n",
    "import time\n",
    "\n",
    "CSV_PATH = './data/financial_transactions.csv'\n",
    "CSV_RESIZED_PATH = './data/financial_transactions_resized.csv'\n",
    "DF_CACHE = './data/df_cache.pkl'\n",
    "\n",
    "\n",
    "def read_dataset(dataset_file_path:str):\n",
    "    '''\n",
    "    Rename columns then return dataframe. Our dataset was too large (around\n",
    "    6,500,000 rows) to run on our machines. So caching is used to speed up \n",
    "    execution.\n",
    "    '''\n",
    "\n",
    "    # Check if the dataframe is cached\n",
    "    if os.path.exists(DF_CACHE):\n",
    "\n",
    "        # Cache exists, load dataframe from cache\n",
    "        df = joblib.load(DF_CACHE)\n",
    "    else:\n",
    "\n",
    "        df = pd.read_csv(dataset_file_path)\n",
    "\n",
    "        # Better fitting column names, removes some of the typos in the original \n",
    "        # dataset column names\n",
    "        df.rename(columns={'type':'paymentType', 'nameOrig':'accSender',\n",
    "                           'oldbalanceOrg':'oldBalanceSender', 'newbalanceOrig':\n",
    "                           'newBalanceSender', 'nameDest':'accRecipient',\n",
    "                           'oldbalanceDest':'oldBalanceRecipient',\n",
    "                           'newbalanceDest':'newBalanceRecipient'})\n",
    "\n",
    "        # Cache the dataframe for quick repeated script execution\n",
    "        joblib.dump(df, DF_CACHE)\n",
    "\n",
    "    # Print class imbalance\n",
    "    print (df['isFraud'].value_counts())\n",
    "\n",
    "    return df\n",
    "\n",
    "def resize_dataset(df: pd.DataFrame):\n",
    "    ''' \n",
    "    Resize the dataset to have 500,000 entries.\n",
    "    '''\n",
    "\n",
    "    X = df.drop('isFraud', axis=1)\n",
    "    y = df['isFraud']\n",
    "\n",
    "    X_resized, X_test, y_resized, y_test = train_test_split(X, y,\n",
    "                                                            test_size=0.92,\n",
    "                                                            stratify=y,\n",
    "                                                            random_state=777)\n",
    "    X_resized['isFraud'] = y_resized\n",
    "\n",
    "    # Write to file.\n",
    "    X_resized.to_csv(CSV_RESIZED_PATH, index=False)\n",
    "\n",
    "if __name__ == \"__main__\":\n",
    "\n",
    "    df = read_dataset(CSV_PATH)\n",
    "    resize_dataset(df)"
   ]
  },
  {
   "cell_type": "markdown",
   "metadata": {},
   "source": [
    "### Findings on the Resized Dataset"
   ]
  },
  {
   "cell_type": "markdown",
   "metadata": {},
   "source": [
    "First, set the location of the dataset according to where you stored it."
   ]
  },
  {
   "cell_type": "code",
   "execution_count": 1,
   "metadata": {},
   "outputs": [],
   "source": [
    "CSV_LOCATION = './data/financial_transactions_resized.csv'"
   ]
  },
  {
   "cell_type": "markdown",
   "metadata": {},
   "source": [
    "Now let us do some EDA on our resized dataset."
   ]
  },
  {
   "cell_type": "code",
   "execution_count": 2,
   "metadata": {},
   "outputs": [
    {
     "data": {
      "text/html": [
       "<div>\n",
       "<style scoped>\n",
       "    .dataframe tbody tr th:only-of-type {\n",
       "        vertical-align: middle;\n",
       "    }\n",
       "\n",
       "    .dataframe tbody tr th {\n",
       "        vertical-align: top;\n",
       "    }\n",
       "\n",
       "    .dataframe thead th {\n",
       "        text-align: right;\n",
       "    }\n",
       "</style>\n",
       "<table border=\"1\" class=\"dataframe\">\n",
       "  <thead>\n",
       "    <tr style=\"text-align: right;\">\n",
       "      <th></th>\n",
       "      <th>step</th>\n",
       "      <th>type</th>\n",
       "      <th>amount</th>\n",
       "      <th>nameOrig</th>\n",
       "      <th>oldbalanceOrg</th>\n",
       "      <th>newbalanceOrig</th>\n",
       "      <th>nameDest</th>\n",
       "      <th>oldbalanceDest</th>\n",
       "      <th>newbalanceDest</th>\n",
       "      <th>isFlaggedFraud</th>\n",
       "      <th>isFraud</th>\n",
       "    </tr>\n",
       "  </thead>\n",
       "  <tbody>\n",
       "    <tr>\n",
       "      <th>0</th>\n",
       "      <td>522</td>\n",
       "      <td>CASH_OUT</td>\n",
       "      <td>239530.21</td>\n",
       "      <td>C466629885</td>\n",
       "      <td>0.0</td>\n",
       "      <td>0.00</td>\n",
       "      <td>C1784299460</td>\n",
       "      <td>633346.88</td>\n",
       "      <td>872877.09</td>\n",
       "      <td>0</td>\n",
       "      <td>0</td>\n",
       "    </tr>\n",
       "    <tr>\n",
       "      <th>1</th>\n",
       "      <td>233</td>\n",
       "      <td>CASH_IN</td>\n",
       "      <td>351816.64</td>\n",
       "      <td>C714945383</td>\n",
       "      <td>52728.0</td>\n",
       "      <td>404544.64</td>\n",
       "      <td>C679086556</td>\n",
       "      <td>16479219.30</td>\n",
       "      <td>16127402.66</td>\n",
       "      <td>0</td>\n",
       "      <td>0</td>\n",
       "    </tr>\n",
       "    <tr>\n",
       "      <th>2</th>\n",
       "      <td>160</td>\n",
       "      <td>PAYMENT</td>\n",
       "      <td>6761.76</td>\n",
       "      <td>C86193329</td>\n",
       "      <td>0.0</td>\n",
       "      <td>0.00</td>\n",
       "      <td>M84953887</td>\n",
       "      <td>0.00</td>\n",
       "      <td>0.00</td>\n",
       "      <td>0</td>\n",
       "      <td>0</td>\n",
       "    </tr>\n",
       "    <tr>\n",
       "      <th>3</th>\n",
       "      <td>181</td>\n",
       "      <td>CASH_OUT</td>\n",
       "      <td>45639.34</td>\n",
       "      <td>C1783941943</td>\n",
       "      <td>0.0</td>\n",
       "      <td>0.00</td>\n",
       "      <td>C1153411207</td>\n",
       "      <td>49385.07</td>\n",
       "      <td>95024.40</td>\n",
       "      <td>0</td>\n",
       "      <td>0</td>\n",
       "    </tr>\n",
       "    <tr>\n",
       "      <th>4</th>\n",
       "      <td>277</td>\n",
       "      <td>PAYMENT</td>\n",
       "      <td>14687.36</td>\n",
       "      <td>C1712987399</td>\n",
       "      <td>17055.0</td>\n",
       "      <td>2367.64</td>\n",
       "      <td>M132453964</td>\n",
       "      <td>0.00</td>\n",
       "      <td>0.00</td>\n",
       "      <td>0</td>\n",
       "      <td>0</td>\n",
       "    </tr>\n",
       "  </tbody>\n",
       "</table>\n",
       "</div>"
      ],
      "text/plain": [
       "   step      type     amount     nameOrig  oldbalanceOrg  newbalanceOrig  \\\n",
       "0   522  CASH_OUT  239530.21   C466629885            0.0            0.00   \n",
       "1   233   CASH_IN  351816.64   C714945383        52728.0       404544.64   \n",
       "2   160   PAYMENT    6761.76    C86193329            0.0            0.00   \n",
       "3   181  CASH_OUT   45639.34  C1783941943            0.0            0.00   \n",
       "4   277   PAYMENT   14687.36  C1712987399        17055.0         2367.64   \n",
       "\n",
       "      nameDest  oldbalanceDest  newbalanceDest  isFlaggedFraud  isFraud  \n",
       "0  C1784299460       633346.88       872877.09               0        0  \n",
       "1   C679086556     16479219.30     16127402.66               0        0  \n",
       "2    M84953887            0.00            0.00               0        0  \n",
       "3  C1153411207        49385.07        95024.40               0        0  \n",
       "4   M132453964            0.00            0.00               0        0  "
      ]
     },
     "execution_count": 2,
     "metadata": {},
     "output_type": "execute_result"
    }
   ],
   "source": [
    "# Imports\n",
    "import pandas as pd\n",
    "import numpy as np\n",
    "\n",
    "import matplotlib.pyplot as plt\n",
    "\n",
    "df = pd.read_csv(CSV_LOCATION)\n",
    "df.head()"
   ]
  },
  {
   "cell_type": "markdown",
   "metadata": {},
   "source": [
    "## Data Preprocessing"
   ]
  },
  {
   "cell_type": "code",
   "execution_count": null,
   "metadata": {},
   "outputs": [],
   "source": [
    "from sklearn.model_selection import train_test_split"
   ]
  }
 ],
 "metadata": {
  "kernelspec": {
   "display_name": "deep_learning_env",
   "language": "python",
   "name": "python3"
  },
  "language_info": {
   "codemirror_mode": {
    "name": "ipython",
    "version": 3
   },
   "file_extension": ".py",
   "mimetype": "text/x-python",
   "name": "python",
   "nbconvert_exporter": "python",
   "pygments_lexer": "ipython3",
   "version": "3.12.7"
  }
 },
 "nbformat": 4,
 "nbformat_minor": 2
}
