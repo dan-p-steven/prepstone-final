{
 "cells": [
  {
   "cell_type": "markdown",
   "metadata": {},
   "source": [
    "## Problem Statement\n",
    "\n",
    "Develop an ML model using supervised learning from the proposed dataset. The problem is a binary classification problem and the target variable is 'isFraud'. The model should predict for the positive class, which indicates that a transaction is fraudulent. The model should additionally be written in the Tensorflow framework."
   ]
  },
  {
   "cell_type": "markdown",
   "metadata": {},
   "source": [
    "## Exploratory Data Analysis (EDA)"
   ]
  },
  {
   "cell_type": "markdown",
   "metadata": {},
   "source": [
    "#### Imports"
   ]
  },
  {
   "cell_type": "code",
   "execution_count": 1,
   "metadata": {},
   "outputs": [],
   "source": [
    "import pandas as pd\n",
    "import numpy as np\n",
    "\n",
    "import matplotlib.pyplot as plt"
   ]
  },
  {
   "cell_type": "markdown",
   "metadata": {},
   "source": [
    "#### Set the dataset file path to where you stored the csv file on your system."
   ]
  },
  {
   "cell_type": "code",
   "execution_count": 2,
   "metadata": {},
   "outputs": [],
   "source": [
    "dataset_file_path = 'data/financial_transactions.csv'"
   ]
  },
  {
   "cell_type": "code",
   "execution_count": null,
   "metadata": {},
   "outputs": [
    {
     "name": "stderr",
     "output_type": "stream",
     "text": [
      "/tmp/ipykernel_1227/3436451484.py:5: DtypeWarning: Columns (0,2,4,5,7,8,9,10) have mixed types. Specify dtype option on import or set low_memory=False.\n",
      "  df = pd.read_csv(dataset_file_path, names=column_names)\n"
     ]
    },
    {
     "data": {
      "text/html": [
       "<div>\n",
       "<style scoped>\n",
       "    .dataframe tbody tr th:only-of-type {\n",
       "        vertical-align: middle;\n",
       "    }\n",
       "\n",
       "    .dataframe tbody tr th {\n",
       "        vertical-align: top;\n",
       "    }\n",
       "\n",
       "    .dataframe thead th {\n",
       "        text-align: right;\n",
       "    }\n",
       "</style>\n",
       "<table border=\"1\" class=\"dataframe\">\n",
       "  <thead>\n",
       "    <tr style=\"text-align: right;\">\n",
       "      <th></th>\n",
       "      <th>step</th>\n",
       "      <th>paymentType</th>\n",
       "      <th>amount</th>\n",
       "      <th>accSender</th>\n",
       "      <th>oldBalanceSender</th>\n",
       "      <th>newBalanceSender</th>\n",
       "      <th>accRecipient</th>\n",
       "      <th>oldBalanceRecipient</th>\n",
       "      <th>newBalanceRecipient</th>\n",
       "      <th>isFraud</th>\n",
       "      <th>isFlaggedFraud</th>\n",
       "    </tr>\n",
       "  </thead>\n",
       "  <tbody>\n",
       "    <tr>\n",
       "      <th>0</th>\n",
       "      <td>step</td>\n",
       "      <td>type</td>\n",
       "      <td>amount</td>\n",
       "      <td>nameOrig</td>\n",
       "      <td>oldbalanceOrg</td>\n",
       "      <td>newbalanceOrig</td>\n",
       "      <td>nameDest</td>\n",
       "      <td>oldbalanceDest</td>\n",
       "      <td>newbalanceDest</td>\n",
       "      <td>isFraud</td>\n",
       "      <td>isFlaggedFraud</td>\n",
       "    </tr>\n",
       "    <tr>\n",
       "      <th>1</th>\n",
       "      <td>1</td>\n",
       "      <td>PAYMENT</td>\n",
       "      <td>9839.64</td>\n",
       "      <td>C1231006815</td>\n",
       "      <td>170136.0</td>\n",
       "      <td>160296.36</td>\n",
       "      <td>M1979787155</td>\n",
       "      <td>0.0</td>\n",
       "      <td>0.0</td>\n",
       "      <td>0</td>\n",
       "      <td>0</td>\n",
       "    </tr>\n",
       "    <tr>\n",
       "      <th>2</th>\n",
       "      <td>1</td>\n",
       "      <td>PAYMENT</td>\n",
       "      <td>1864.28</td>\n",
       "      <td>C1666544295</td>\n",
       "      <td>21249.0</td>\n",
       "      <td>19384.72</td>\n",
       "      <td>M2044282225</td>\n",
       "      <td>0.0</td>\n",
       "      <td>0.0</td>\n",
       "      <td>0</td>\n",
       "      <td>0</td>\n",
       "    </tr>\n",
       "    <tr>\n",
       "      <th>3</th>\n",
       "      <td>1</td>\n",
       "      <td>TRANSFER</td>\n",
       "      <td>181.0</td>\n",
       "      <td>C1305486145</td>\n",
       "      <td>181.0</td>\n",
       "      <td>0.0</td>\n",
       "      <td>C553264065</td>\n",
       "      <td>0.0</td>\n",
       "      <td>0.0</td>\n",
       "      <td>1</td>\n",
       "      <td>0</td>\n",
       "    </tr>\n",
       "    <tr>\n",
       "      <th>4</th>\n",
       "      <td>1</td>\n",
       "      <td>CASH_OUT</td>\n",
       "      <td>181.0</td>\n",
       "      <td>C840083671</td>\n",
       "      <td>181.0</td>\n",
       "      <td>0.0</td>\n",
       "      <td>C38997010</td>\n",
       "      <td>21182.0</td>\n",
       "      <td>0.0</td>\n",
       "      <td>1</td>\n",
       "      <td>0</td>\n",
       "    </tr>\n",
       "  </tbody>\n",
       "</table>\n",
       "</div>"
      ],
      "text/plain": [
       "   step paymentType   amount    accSender oldBalanceSender newBalanceSender  \\\n",
       "0  step        type   amount     nameOrig    oldbalanceOrg   newbalanceOrig   \n",
       "1     1     PAYMENT  9839.64  C1231006815         170136.0        160296.36   \n",
       "2     1     PAYMENT  1864.28  C1666544295          21249.0         19384.72   \n",
       "3     1    TRANSFER    181.0  C1305486145            181.0              0.0   \n",
       "4     1    CASH_OUT    181.0   C840083671            181.0              0.0   \n",
       "\n",
       "  accRecipient oldBalanceRecipient newBalanceRecipient  isFraud  \\\n",
       "0     nameDest      oldbalanceDest      newbalanceDest  isFraud   \n",
       "1  M1979787155                 0.0                 0.0        0   \n",
       "2  M2044282225                 0.0                 0.0        0   \n",
       "3   C553264065                 0.0                 0.0        1   \n",
       "4    C38997010             21182.0                 0.0        1   \n",
       "\n",
       "   isFlaggedFraud  \n",
       "0  isFlaggedFraud  \n",
       "1               0  \n",
       "2               0  \n",
       "3               0  \n",
       "4               0  "
      ]
     },
     "execution_count": 3,
     "metadata": {},
     "output_type": "execute_result"
    }
   ],
   "source": [
    "# Better fitting column names, removes some of the typos in the original dataset column names\n",
    "column_names = ['step', 'paymentType', 'amount', 'accSender', 'oldBalanceSender', 'newBalanceSender', 'accRecipient', 'oldBalanceRecipient',\n",
    "                'newBalanceRecipient', 'isFraud', 'isFlaggedFraud']\n",
    "\n",
    "df = pd.read_csv(dataset_file_path)\n",
    "df.head()"
   ]
  },
  {
   "cell_type": "markdown",
   "metadata": {},
   "source": [
    "## Data Preprocessing"
   ]
  },
  {
   "cell_type": "code",
   "execution_count": null,
   "metadata": {},
   "outputs": [],
   "source": [
    "from sklearn.model_selection import train_test_split"
   ]
  }
 ],
 "metadata": {
  "kernelspec": {
   "display_name": "deep_learning_env",
   "language": "python",
   "name": "python3"
  },
  "language_info": {
   "codemirror_mode": {
    "name": "ipython",
    "version": 3
   },
   "file_extension": ".py",
   "mimetype": "text/x-python",
   "name": "python",
   "nbconvert_exporter": "python",
   "pygments_lexer": "ipython3",
   "version": "3.12.7"
  }
 },
 "nbformat": 4,
 "nbformat_minor": 2
}
