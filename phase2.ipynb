{
 "cells": [
  {
   "cell_type": "markdown",
   "metadata": {},
   "source": [
    "# **Phase 2**"
   ]
  },
  {
   "cell_type": "code",
   "execution_count": 25,
   "metadata": {},
   "outputs": [],
   "source": [
    "import pandas as pd\n",
    "import numpy as np\n",
    "\n",
    "import matplotlib.pyplot as plt"
   ]
  },
  {
   "cell_type": "code",
   "execution_count": 26,
   "metadata": {},
   "outputs": [],
   "source": [
    "DATASET_PATH = 'financial_transactions.csv'"
   ]
  },
  {
   "cell_type": "code",
   "execution_count": 27,
   "metadata": {},
   "outputs": [],
   "source": [
    "df = pd.read_csv(DATASET_PATH)"
   ]
  },
  {
   "cell_type": "markdown",
   "metadata": {},
   "source": [
    "### Better Column Names"
   ]
  },
  {
   "cell_type": "code",
   "execution_count": 28,
   "metadata": {},
   "outputs": [],
   "source": [
    "df.rename(columns={'type':'paymentType', 'nameOrig':'accSender',\n",
    "                    'oldbalanceOrg':'oldBalanceSender', 'newbalanceOrig':\n",
    "                    'newBalanceSender', 'nameDest':'accRecipient',\n",
    "                    'oldbalanceDest':'oldBalanceRecipient',\n",
    "                    'newbalanceDest':'newBalanceRecipient'}, inplace=True)"
   ]
  },
  {
   "cell_type": "markdown",
   "metadata": {},
   "source": [
    "### Print DF info"
   ]
  },
  {
   "cell_type": "code",
   "execution_count": 29,
   "metadata": {},
   "outputs": [
    {
     "name": "stdout",
     "output_type": "stream",
     "text": [
      "<class 'pandas.core.frame.DataFrame'>\n",
      "RangeIndex: 6362620 entries, 0 to 6362619\n",
      "Data columns (total 11 columns):\n",
      " #   Column               Dtype  \n",
      "---  ------               -----  \n",
      " 0   step                 int64  \n",
      " 1   paymentType          object \n",
      " 2   amount               float64\n",
      " 3   accSender            object \n",
      " 4   oldBalanceSender     float64\n",
      " 5   newBalanceSender     float64\n",
      " 6   accRecipient         object \n",
      " 7   oldBalanceRecipient  float64\n",
      " 8   newBalanceRecipient  float64\n",
      " 9   isFraud              int64  \n",
      " 10  isFlaggedFraud       int64  \n",
      "dtypes: float64(5), int64(3), object(3)\n",
      "memory usage: 534.0+ MB\n",
      "None\n"
     ]
    }
   ],
   "source": [
    "print (df.info())"
   ]
  },
  {
   "cell_type": "markdown",
   "metadata": {},
   "source": [
    "### Feature Engineering"
   ]
  },
  {
   "cell_type": "markdown",
   "metadata": {},
   "source": [
    "Create two new columns showing how much the transaction changed the accounts of the sender and recipient, as a proportion of their account before the transaction. These features shows the magnitude of the transaction relative to their account."
   ]
  },
  {
   "cell_type": "code",
   "execution_count": 30,
   "metadata": {},
   "outputs": [],
   "source": [
    "df['senderAccChangeRate'] = (df['oldBalanceSender'] - df['newBalanceSender']) / df['oldBalanceSender']\n",
    "\n",
    "df['recipientAccChangeRate'] = (df['oldBalanceRecipient'] - df['newBalanceRecipient']) / df['oldBalanceRecipient']"
   ]
  },
  {
   "cell_type": "code",
   "execution_count": 31,
   "metadata": {},
   "outputs": [
    {
     "name": "stdout",
     "output_type": "stream",
     "text": [
      "<class 'pandas.core.frame.DataFrame'>\n",
      "RangeIndex: 6362620 entries, 0 to 6362619\n",
      "Data columns (total 13 columns):\n",
      " #   Column                  Dtype  \n",
      "---  ------                  -----  \n",
      " 0   step                    int64  \n",
      " 1   paymentType             object \n",
      " 2   amount                  float64\n",
      " 3   accSender               object \n",
      " 4   oldBalanceSender        float64\n",
      " 5   newBalanceSender        float64\n",
      " 6   accRecipient            object \n",
      " 7   oldBalanceRecipient     float64\n",
      " 8   newBalanceRecipient     float64\n",
      " 9   isFraud                 int64  \n",
      " 10  isFlaggedFraud          int64  \n",
      " 11  senderAccChangeRate     float64\n",
      " 12  recipientAccChangeRate  float64\n",
      "dtypes: float64(7), int64(3), object(3)\n",
      "memory usage: 631.1+ MB\n"
     ]
    }
   ],
   "source": [
    "df.info()"
   ]
  },
  {
   "cell_type": "markdown",
   "metadata": {},
   "source": [
    "## **Data Preprocessing**"
   ]
  },
  {
   "cell_type": "markdown",
   "metadata": {},
   "source": [
    "### One-Hot Encoding"
   ]
  },
  {
   "cell_type": "code",
   "execution_count": 32,
   "metadata": {},
   "outputs": [],
   "source": [
    "from sklearn.preprocessing import LabelEncoder, StandardScaler"
   ]
  },
  {
   "cell_type": "code",
   "execution_count": 33,
   "metadata": {},
   "outputs": [],
   "source": [
    "df = pd.get_dummies(df, columns=['paymentType'], drop_first=True)"
   ]
  },
  {
   "cell_type": "code",
   "execution_count": 34,
   "metadata": {},
   "outputs": [
    {
     "name": "stdout",
     "output_type": "stream",
     "text": [
      "<class 'pandas.core.frame.DataFrame'>\n",
      "RangeIndex: 6362620 entries, 0 to 6362619\n",
      "Data columns (total 16 columns):\n",
      " #   Column                  Dtype  \n",
      "---  ------                  -----  \n",
      " 0   step                    int64  \n",
      " 1   amount                  float64\n",
      " 2   accSender               object \n",
      " 3   oldBalanceSender        float64\n",
      " 4   newBalanceSender        float64\n",
      " 5   accRecipient            object \n",
      " 6   oldBalanceRecipient     float64\n",
      " 7   newBalanceRecipient     float64\n",
      " 8   isFraud                 int64  \n",
      " 9   isFlaggedFraud          int64  \n",
      " 10  senderAccChangeRate     float64\n",
      " 11  recipientAccChangeRate  float64\n",
      " 12  paymentType_CASH_OUT    bool   \n",
      " 13  paymentType_DEBIT       bool   \n",
      " 14  paymentType_PAYMENT     bool   \n",
      " 15  paymentType_TRANSFER    bool   \n",
      "dtypes: bool(4), float64(7), int64(3), object(2)\n",
      "memory usage: 606.8+ MB\n"
     ]
    }
   ],
   "source": [
    "df.info()"
   ]
  },
  {
   "cell_type": "markdown",
   "metadata": {},
   "source": [
    "### Label Encoding\n",
    "Label-encode the sender and recipient account columns. These are categorical columns with hundreds of thousands of values, so we will have to label encoding rather than one-hot. After encoding, drop the original column to save some memory."
   ]
  },
  {
   "cell_type": "code",
   "execution_count": 35,
   "metadata": {},
   "outputs": [
    {
     "name": "stdout",
     "output_type": "stream",
     "text": [
      "<class 'pandas.core.frame.DataFrame'>\n",
      "RangeIndex: 6362620 entries, 0 to 6362619\n",
      "Data columns (total 16 columns):\n",
      " #   Column                  Dtype  \n",
      "---  ------                  -----  \n",
      " 0   step                    int64  \n",
      " 1   amount                  float64\n",
      " 2   oldBalanceSender        float64\n",
      " 3   newBalanceSender        float64\n",
      " 4   oldBalanceRecipient     float64\n",
      " 5   newBalanceRecipient     float64\n",
      " 6   isFraud                 int64  \n",
      " 7   isFlaggedFraud          int64  \n",
      " 8   senderAccChangeRate     float64\n",
      " 9   recipientAccChangeRate  float64\n",
      " 10  paymentType_CASH_OUT    bool   \n",
      " 11  paymentType_DEBIT       bool   \n",
      " 12  paymentType_PAYMENT     bool   \n",
      " 13  paymentType_TRANSFER    bool   \n",
      " 14  accSenderEncoded        int64  \n",
      " 15  accRecipientEncoded     int64  \n",
      "dtypes: bool(4), float64(7), int64(5)\n",
      "memory usage: 606.8 MB\n"
     ]
    }
   ],
   "source": [
    "label_cols = ['accSender', 'accRecipient']\n",
    "\n",
    "for col in label_cols:\n",
    "    encoder = LabelEncoder()\n",
    "    df[col + 'Encoded'] = encoder.fit_transform(df[col])\n",
    "    df.drop(columns=[col], inplace=True)\n",
    "\n",
    "df.info()"
   ]
  },
  {
   "cell_type": "markdown",
   "metadata": {},
   "source": [
    "### Splitting Data"
   ]
  },
  {
   "cell_type": "code",
   "execution_count": null,
   "metadata": {},
   "outputs": [],
   "source": [
    "from sklearn.model_selection import train_test_split"
   ]
  }
 ],
 "metadata": {
  "kernelspec": {
   "display_name": ".venv",
   "language": "python",
   "name": "python3"
  },
  "language_info": {
   "codemirror_mode": {
    "name": "ipython",
    "version": 3
   },
   "file_extension": ".py",
   "mimetype": "text/x-python",
   "name": "python",
   "nbconvert_exporter": "python",
   "pygments_lexer": "ipython3",
   "version": "3.11.9"
  }
 },
 "nbformat": 4,
 "nbformat_minor": 2
}
